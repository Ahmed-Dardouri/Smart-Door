{
 "cells": [
  {
   "cell_type": "code",
   "execution_count": 1,
   "id": "29142df1",
   "metadata": {
    "colab": {
     "base_uri": "https://localhost:8080/",
     "height": 121
    },
    "id": "29142df1",
    "outputId": "12ef021b-f0b1-4246-a699-b06a75584544"
   },
   "outputs": [],
   "source": [
    "!pip install tensorflow-gpu"
   ]
  },
  {
   "cell_type": "code",
   "execution_count": 2,
   "id": "nSyCr7TE1bda",
   "metadata": {
    "id": "nSyCr7TE1bda"
   },
   "outputs": [],
   "source": [
    "import tensorflow as tf\n",
    "import numpy as np\n",
    "import cv2 as cv\n",
    "import os\n",
    "import matplotlib.pyplot as plt\n",
    "from tensorflow.keras.models import Model\n",
    "from tensorflow.keras.applications import MobileNet\n",
    "from tensorflow.keras.layers import Dense, Dropout, Activation, Flatten, GlobalAveragePooling2D\n",
    "from tensorflow.keras.layers import Conv2D, MaxPooling2D, ZeroPadding2D\n",
    "from tensorflow.keras.preprocessing.image import ImageDataGenerator\n",
    "from tensorflow.keras.models import Model\n",
    "from sklearn.metrics import confusion_matrix\n",
    "import itertools"
   ]
  },
  {
   "cell_type": "code",
   "execution_count": null,
   "id": "05a0c5bf",
   "metadata": {},
   "outputs": [],
   "source": [
    "#code needed to to train the model in collab to link to the drive\n",
    "#inside the Data directory create 3 directories training, validation and test respectively inside each of them create directories up to the number of classes you will use "
   ]
  },
  {
   "cell_type": "code",
   "execution_count": 4,
   "id": "AaPRqRpc2aOu",
   "metadata": {
    "colab": {
     "base_uri": "https://localhost:8080/"
    },
    "id": "AaPRqRpc2aOu",
    "outputId": "4577cb99-0166-4891-f430-ece514fecfdf"
   },
   "outputs": [
    {
     "name": "stdout",
     "output_type": "stream",
     "text": [
      "Drive already mounted at /content/drive; to attempt to forcibly remount, call drive.mount(\"/content/drive\", force_remount=True).\n"
     ]
    }
   ],
   "source": [
    "from google.colab import drive\n",
    "drive.mount('/content/drive')"
   ]
  },
  {
   "cell_type": "code",
   "execution_count": 5,
   "id": "a924aca0",
   "metadata": {
    "id": "a924aca0"
   },
   "outputs": [],
   "source": [
    "datadir=\"/content/drive/MyDrive/Data\""
   ]
  },
  {
   "cell_type": "code",
   "execution_count": null,
   "id": "2b614d8f",
   "metadata": {},
   "outputs": [],
   "source": [
    "#list relative to our classes we used to classes for this instance"
   ]
  },
  {
   "cell_type": "code",
   "execution_count": 6,
   "id": "30ac3025",
   "metadata": {
    "id": "30ac3025"
   },
   "outputs": [],
   "source": [
    "classes = [\"0\", \"1\"]"
   ]
  },
  {
   "cell_type": "code",
   "execution_count": null,
   "id": "6caea633",
   "metadata": {
    "id": "6caea633"
   },
   "outputs": [],
   "source": [
    "#training ,validation ,testing paths \n",
    "#preprocessing data with the preprocess_input function relative to mobilenet model"
   ]
  },
  {
   "cell_type": "code",
   "execution_count": 7,
   "id": "6a533ac6",
   "metadata": {
    "colab": {
     "base_uri": "https://localhost:8080/"
    },
    "id": "6a533ac6",
    "outputId": "dadb8d71-bdfc-4c91-94cb-61df189a01e1"
   },
   "outputs": [
    {
     "name": "stdout",
     "output_type": "stream",
     "text": [
      "Found 435 images belonging to 2 classes.\n",
      "Found 63 images belonging to 2 classes.\n",
      "Found 42 images belonging to 2 classes.\n"
     ]
    }
   ],
   "source": [
    "train_path = '/content/drive/MyDrive/Data/train'\n",
    "valid_path = '/content/drive/MyDrive/Data/validation'\n",
    "test_path = '/content/drive/MyDrive/Data/test'\n",
    "\n",
    "train_batches = ImageDataGenerator(preprocessing_function=tf.keras.applications.mobilenet.preprocess_input).flow_from_directory(\n",
    "    directory=train_path, target_size=(224,224), batch_size=10)\n",
    "valid_batches = ImageDataGenerator(preprocessing_function=tf.keras.applications.mobilenet.preprocess_input).flow_from_directory(\n",
    "    directory=valid_path, target_size=(224,224), batch_size=10)\n",
    "test_batches = ImageDataGenerator(preprocessing_function=tf.keras.applications.mobilenet.preprocess_input).flow_from_directory(\n",
    "    directory=test_path, target_size=(224,224), batch_size=10, shuffle=False)"
   ]
  },
  {
   "cell_type": "code",
   "execution_count": null,
   "id": "deab5250",
   "metadata": {
    "id": "deab5250"
   },
   "outputs": [],
   "source": [
    "#initialising the model"
   ]
  },
  {
   "cell_type": "code",
   "execution_count": 8,
   "id": "f05faafe",
   "metadata": {
    "colab": {
     "base_uri": "https://localhost:8080/"
    },
    "id": "f05faafe",
    "outputId": "95ee01df-e8b5-422b-96de-a9eb4cfac38a"
   },
   "outputs": [
    {
     "name": "stdout",
     "output_type": "stream",
     "text": [
      "Downloading data from https://storage.googleapis.com/tensorflow/keras-applications/mobilenet_v2/mobilenet_v2_weights_tf_dim_ordering_tf_kernels_1.0_224.h5\n",
      "14540800/14536120 [==============================] - 0s 0us/step\n",
      "14548992/14536120 [==============================] - 0s 0us/step\n"
     ]
    }
   ],
   "source": [
    "model1 = tf.keras.applications.MobileNetV2()"
   ]
  },
  {
   "cell_type": "code",
   "execution_count": null,
   "id": "N9ZlVC0EgleH",
   "metadata": {
    "id": "N9ZlVC0EgleH"
   },
   "outputs": [],
   "source": [
    "#freezing the last 23 layers to keep  the weights "
   ]
  },
  {
   "cell_type": "code",
   "execution_count": 9,
   "id": "xzkSaKwX1W8A",
   "metadata": {
    "id": "xzkSaKwX1W8A"
   },
   "outputs": [],
   "source": [
    "for layer in model1.layers[:-23]:\n",
    "    layer.trainable = False"
   ]
  },
  {
   "cell_type": "code",
   "execution_count": null,
   "id": "d9e74f79",
   "metadata": {
    "id": "d9e74f79"
   },
   "outputs": [],
   "source": [
    "model1.summary()"
   ]
  },
  {
   "cell_type": "code",
   "execution_count": null,
   "id": "jomZDEd_0FrJ",
   "metadata": {
    "id": "jomZDEd_0FrJ"
   },
   "outputs": [],
   "source": [
    "#defining and adding the custom layers"
   ]
  },
  {
   "cell_type": "code",
   "execution_count": 10,
   "id": "09627d69",
   "metadata": {
    "id": "09627d69"
   },
   "outputs": [],
   "source": [
    "x = model1.layers[-6].output\n",
    "x = GlobalAveragePooling2D()(x)\n",
    "x = Dense(1024,activation='relu')(x)\n",
    "x = Dense(1024,activation='relu')(x)\n",
    "x = Dense(512,activation='relu')(x)\n",
    "x = Dense(2,activation='softmax')(x)"
   ]
  },
  {
   "cell_type": "code",
   "execution_count": 11,
   "id": "3c96f5eb",
   "metadata": {
    "id": "3c96f5eb"
   },
   "outputs": [],
   "source": [
    "model=tf.keras.Model(inputs=model1.input,outputs=x)"
   ]
  },
  {
   "cell_type": "code",
   "execution_count": null,
   "id": "d2642bce",
   "metadata": {
    "id": "d2642bce"
   },
   "outputs": [],
   "source": [
    "model.summary()"
   ]
  },
  {
   "cell_type": "code",
   "execution_count": null,
   "id": "1e88ecbe",
   "metadata": {},
   "outputs": [],
   "source": [
    "#compiling the model"
   ]
  },
  {
   "cell_type": "code",
   "execution_count": 12,
   "id": "3bd4a0dd",
   "metadata": {
    "id": "3bd4a0dd"
   },
   "outputs": [],
   "source": [
    "model.compile(optimizer=tf.keras.optimizers.Adam(), loss='categorical_crossentropy',metrics=['accuracy'])"
   ]
  },
  {
   "cell_type": "code",
   "execution_count": null,
   "id": "d7a49bd5",
   "metadata": {},
   "outputs": [],
   "source": [
    "#training the model "
   ]
  },
  {
   "cell_type": "code",
   "execution_count": 13,
   "id": "cd479567",
   "metadata": {
    "colab": {
     "base_uri": "https://localhost:8080/"
    },
    "id": "cd479567",
    "outputId": "a19c5832-1983-43aa-9261-20e423cd247f",
    "scrolled": true
   },
   "outputs": [
    {
     "name": "stdout",
     "output_type": "stream",
     "text": [
      "Epoch 1/50\n",
      "44/44 - 76s - loss: 0.1184 - accuracy: 0.9816 - val_loss: 17.4840 - val_accuracy: 0.5079 - 76s/epoch - 2s/step\n",
      "Epoch 2/50\n",
      "44/44 - 4s - loss: 0.0979 - accuracy: 0.9885 - val_loss: 19.2427 - val_accuracy: 0.6190 - 4s/epoch - 98ms/step\n",
      "Epoch 3/50\n",
      "44/44 - 4s - loss: 0.0517 - accuracy: 0.9931 - val_loss: 14.2178 - val_accuracy: 0.5714 - 4s/epoch - 100ms/step\n",
      "Epoch 4/50\n",
      "44/44 - 4s - loss: 0.1611 - accuracy: 0.9816 - val_loss: 2.1129 - val_accuracy: 0.8095 - 4s/epoch - 99ms/step\n",
      "Epoch 5/50\n",
      "44/44 - 4s - loss: 0.0427 - accuracy: 0.9816 - val_loss: 4.0465 - val_accuracy: 0.7778 - 4s/epoch - 98ms/step\n",
      "Epoch 6/50\n",
      "44/44 - 4s - loss: 0.0452 - accuracy: 0.9885 - val_loss: 5.2361 - val_accuracy: 0.7619 - 4s/epoch - 98ms/step\n",
      "Epoch 7/50\n",
      "44/44 - 4s - loss: 0.0014 - accuracy: 1.0000 - val_loss: 5.1039 - val_accuracy: 0.7619 - 4s/epoch - 99ms/step\n",
      "Epoch 8/50\n",
      "44/44 - 4s - loss: 0.0327 - accuracy: 0.9977 - val_loss: 1.2675 - val_accuracy: 0.8889 - 4s/epoch - 98ms/step\n",
      "Epoch 9/50\n",
      "44/44 - 4s - loss: 0.0140 - accuracy: 0.9977 - val_loss: 4.5008 - val_accuracy: 0.3968 - 4s/epoch - 98ms/step\n",
      "Epoch 10/50\n",
      "44/44 - 4s - loss: 0.0196 - accuracy: 0.9931 - val_loss: 1.9032 - val_accuracy: 0.9048 - 4s/epoch - 98ms/step\n",
      "Epoch 11/50\n",
      "44/44 - 4s - loss: 0.0191 - accuracy: 0.9931 - val_loss: 19.2406 - val_accuracy: 0.7937 - 4s/epoch - 99ms/step\n",
      "Epoch 12/50\n",
      "44/44 - 4s - loss: 0.2398 - accuracy: 0.9816 - val_loss: 14.3621 - val_accuracy: 0.5873 - 4s/epoch - 98ms/step\n",
      "Epoch 13/50\n",
      "44/44 - 4s - loss: 0.6588 - accuracy: 0.9885 - val_loss: 7.6604 - val_accuracy: 0.7302 - 4s/epoch - 97ms/step\n",
      "Epoch 14/50\n",
      "44/44 - 4s - loss: 8.0123e-05 - accuracy: 1.0000 - val_loss: 6.3826 - val_accuracy: 0.7619 - 4s/epoch - 97ms/step\n",
      "Epoch 15/50\n",
      "44/44 - 4s - loss: 0.0060 - accuracy: 0.9977 - val_loss: 3.1781 - val_accuracy: 0.8730 - 4s/epoch - 98ms/step\n",
      "Epoch 16/50\n",
      "44/44 - 4s - loss: 0.0699 - accuracy: 0.9954 - val_loss: 2.1705 - val_accuracy: 0.8095 - 4s/epoch - 99ms/step\n",
      "Epoch 17/50\n",
      "44/44 - 4s - loss: 0.0840 - accuracy: 0.9954 - val_loss: 0.5034 - val_accuracy: 0.9524 - 4s/epoch - 100ms/step\n",
      "Epoch 18/50\n",
      "44/44 - 4s - loss: 0.0017 - accuracy: 1.0000 - val_loss: 0.7575 - val_accuracy: 0.9683 - 4s/epoch - 101ms/step\n",
      "Epoch 19/50\n",
      "44/44 - 4s - loss: 1.4044e-05 - accuracy: 1.0000 - val_loss: 0.5367 - val_accuracy: 0.9841 - 4s/epoch - 97ms/step\n",
      "Epoch 20/50\n",
      "44/44 - 5s - loss: 0.0015 - accuracy: 1.0000 - val_loss: 0.9101 - val_accuracy: 0.9683 - 5s/epoch - 105ms/step\n",
      "Epoch 21/50\n",
      "44/44 - 4s - loss: 0.1505 - accuracy: 0.9954 - val_loss: 0.1462 - val_accuracy: 0.9524 - 4s/epoch - 98ms/step\n",
      "Epoch 22/50\n",
      "44/44 - 4s - loss: 0.0686 - accuracy: 0.9931 - val_loss: 0.3506 - val_accuracy: 0.9524 - 4s/epoch - 96ms/step\n",
      "Epoch 23/50\n",
      "44/44 - 4s - loss: 4.3136e-05 - accuracy: 1.0000 - val_loss: 0.4484 - val_accuracy: 0.9524 - 4s/epoch - 96ms/step\n",
      "Epoch 24/50\n",
      "44/44 - 4s - loss: 1.4415e-05 - accuracy: 1.0000 - val_loss: 0.4117 - val_accuracy: 0.9524 - 4s/epoch - 97ms/step\n",
      "Epoch 25/50\n",
      "44/44 - 4s - loss: 2.6281e-07 - accuracy: 1.0000 - val_loss: 0.3002 - val_accuracy: 0.9524 - 4s/epoch - 98ms/step\n",
      "Epoch 26/50\n",
      "44/44 - 4s - loss: 0.2332 - accuracy: 0.9885 - val_loss: 1.0585 - val_accuracy: 0.9524 - 4s/epoch - 99ms/step\n",
      "Epoch 27/50\n",
      "44/44 - 4s - loss: 0.0868 - accuracy: 0.9724 - val_loss: 3.7844e-09 - val_accuracy: 1.0000 - 4s/epoch - 100ms/step\n",
      "Epoch 28/50\n",
      "44/44 - 5s - loss: 1.5699e-05 - accuracy: 1.0000 - val_loss: 0.0000e+00 - val_accuracy: 1.0000 - 5s/epoch - 113ms/step\n",
      "Epoch 29/50\n",
      "44/44 - 4s - loss: 1.5566e-04 - accuracy: 1.0000 - val_loss: 0.0000e+00 - val_accuracy: 1.0000 - 4s/epoch - 98ms/step\n",
      "Epoch 30/50\n",
      "44/44 - 4s - loss: 0.0164 - accuracy: 0.9977 - val_loss: 0.0000e+00 - val_accuracy: 1.0000 - 4s/epoch - 100ms/step\n",
      "Epoch 31/50\n",
      "44/44 - 4s - loss: 0.0037 - accuracy: 1.0000 - val_loss: 2.8948e-06 - val_accuracy: 1.0000 - 4s/epoch - 97ms/step\n",
      "Epoch 32/50\n",
      "44/44 - 4s - loss: 0.0544 - accuracy: 0.9908 - val_loss: 0.0000e+00 - val_accuracy: 1.0000 - 4s/epoch - 98ms/step\n",
      "Epoch 33/50\n",
      "44/44 - 4s - loss: 0.0034 - accuracy: 1.0000 - val_loss: 0.0000e+00 - val_accuracy: 1.0000 - 4s/epoch - 96ms/step\n",
      "Epoch 34/50\n",
      "44/44 - 4s - loss: 2.3721e-04 - accuracy: 1.0000 - val_loss: 0.0000e+00 - val_accuracy: 1.0000 - 4s/epoch - 95ms/step\n",
      "Epoch 35/50\n",
      "44/44 - 4s - loss: 1.0841e-06 - accuracy: 1.0000 - val_loss: 0.0000e+00 - val_accuracy: 1.0000 - 4s/epoch - 95ms/step\n",
      "Epoch 36/50\n",
      "44/44 - 4s - loss: 0.0044 - accuracy: 0.9977 - val_loss: 7.2471e-07 - val_accuracy: 1.0000 - 4s/epoch - 96ms/step\n",
      "Epoch 37/50\n",
      "44/44 - 4s - loss: 0.0040 - accuracy: 0.9977 - val_loss: 0.0000e+00 - val_accuracy: 1.0000 - 4s/epoch - 96ms/step\n",
      "Epoch 38/50\n",
      "44/44 - 4s - loss: 0.2263 - accuracy: 0.9862 - val_loss: 0.0000e+00 - val_accuracy: 1.0000 - 4s/epoch - 96ms/step\n",
      "Epoch 39/50\n",
      "44/44 - 4s - loss: 0.0053 - accuracy: 0.9977 - val_loss: 1.7918 - val_accuracy: 0.8095 - 4s/epoch - 95ms/step\n",
      "Epoch 40/50\n",
      "44/44 - 4s - loss: 0.0094 - accuracy: 0.9954 - val_loss: 0.8652 - val_accuracy: 0.8413 - 4s/epoch - 93ms/step\n",
      "Epoch 41/50\n",
      "44/44 - 4s - loss: 0.0300 - accuracy: 0.9908 - val_loss: 0.0577 - val_accuracy: 0.9841 - 4s/epoch - 95ms/step\n",
      "Epoch 42/50\n",
      "44/44 - 4s - loss: 0.0210 - accuracy: 0.9954 - val_loss: 0.0023 - val_accuracy: 1.0000 - 4s/epoch - 96ms/step\n",
      "Epoch 43/50\n",
      "44/44 - 4s - loss: 0.0078 - accuracy: 0.9977 - val_loss: 0.0000e+00 - val_accuracy: 1.0000 - 4s/epoch - 95ms/step\n",
      "Epoch 44/50\n",
      "44/44 - 4s - loss: 1.3042e-04 - accuracy: 1.0000 - val_loss: 0.0000e+00 - val_accuracy: 1.0000 - 4s/epoch - 96ms/step\n",
      "Epoch 45/50\n",
      "44/44 - 4s - loss: 6.8467e-05 - accuracy: 1.0000 - val_loss: 0.0000e+00 - val_accuracy: 1.0000 - 4s/epoch - 96ms/step\n",
      "Epoch 46/50\n",
      "44/44 - 4s - loss: 7.1892e-06 - accuracy: 1.0000 - val_loss: 0.0000e+00 - val_accuracy: 1.0000 - 4s/epoch - 95ms/step\n",
      "Epoch 47/50\n",
      "44/44 - 4s - loss: 1.6632e-04 - accuracy: 1.0000 - val_loss: 0.0000e+00 - val_accuracy: 1.0000 - 4s/epoch - 96ms/step\n",
      "Epoch 48/50\n",
      "44/44 - 4s - loss: 7.0451e-06 - accuracy: 1.0000 - val_loss: 0.0000e+00 - val_accuracy: 1.0000 - 4s/epoch - 95ms/step\n",
      "Epoch 49/50\n",
      "44/44 - 4s - loss: 4.6089e-05 - accuracy: 1.0000 - val_loss: 0.0000e+00 - val_accuracy: 1.0000 - 4s/epoch - 96ms/step\n",
      "Epoch 50/50\n",
      "44/44 - 4s - loss: 0.0778 - accuracy: 0.9977 - val_loss: 4.5413e-08 - val_accuracy: 1.0000 - 4s/epoch - 95ms/step\n"
     ]
    },
    {
     "data": {
      "text/plain": [
       "<keras.callbacks.History at 0x7f45ef808b90>"
      ]
     },
     "execution_count": 13,
     "metadata": {},
     "output_type": "execute_result"
    }
   ],
   "source": [
    "model.fit(x=train_batches, validation_data=valid_batches, epochs=50 ,verbose=2)"
   ]
  },
  {
   "cell_type": "code",
   "execution_count": 15,
   "id": "bc0d6929",
   "metadata": {
    "colab": {
     "base_uri": "https://localhost:8080/"
    },
    "id": "bc0d6929",
    "outputId": "f287b720-79e3-4d82-a328-71273ded02ec"
   },
   "outputs": [
    {
     "data": {
      "text/plain": [
       "array([[9.9999988e-01, 1.3052353e-07],\n",
       "       [9.9999976e-01, 2.0051041e-07],\n",
       "       [9.9999976e-01, 2.0050314e-07],\n",
       "       [9.9999928e-01, 6.9977631e-07],\n",
       "       [9.9999976e-01, 2.4017643e-07],\n",
       "       [9.9999928e-01, 7.2490934e-07],\n",
       "       [9.9999976e-01, 1.8260268e-07],\n",
       "       [9.9999869e-01, 1.2675836e-06],\n",
       "       [9.9999964e-01, 3.6717577e-07],\n",
       "       [9.9999738e-01, 2.6502885e-06],\n",
       "       [9.9999976e-01, 2.2566746e-07],\n",
       "       [9.9999988e-01, 1.7288475e-07],\n",
       "       [9.9999976e-01, 2.0263110e-07],\n",
       "       [9.9999976e-01, 2.3995688e-07],\n",
       "       [9.9999988e-01, 8.4804512e-08],\n",
       "       [9.9999988e-01, 1.4333661e-07],\n",
       "       [9.9999940e-01, 5.5441558e-07],\n",
       "       [9.9999833e-01, 1.7256154e-06],\n",
       "       [0.0000000e+00, 1.0000000e+00],\n",
       "       [0.0000000e+00, 1.0000000e+00],\n",
       "       [0.0000000e+00, 1.0000000e+00],\n",
       "       [0.0000000e+00, 1.0000000e+00],\n",
       "       [0.0000000e+00, 1.0000000e+00],\n",
       "       [0.0000000e+00, 1.0000000e+00],\n",
       "       [0.0000000e+00, 1.0000000e+00],\n",
       "       [0.0000000e+00, 1.0000000e+00],\n",
       "       [0.0000000e+00, 1.0000000e+00],\n",
       "       [0.0000000e+00, 1.0000000e+00],\n",
       "       [0.0000000e+00, 1.0000000e+00],\n",
       "       [0.0000000e+00, 1.0000000e+00],\n",
       "       [0.0000000e+00, 1.0000000e+00],\n",
       "       [0.0000000e+00, 1.0000000e+00],\n",
       "       [0.0000000e+00, 1.0000000e+00],\n",
       "       [0.0000000e+00, 1.0000000e+00],\n",
       "       [0.0000000e+00, 1.0000000e+00],\n",
       "       [0.0000000e+00, 1.0000000e+00],\n",
       "       [0.0000000e+00, 1.0000000e+00],\n",
       "       [0.0000000e+00, 1.0000000e+00],\n",
       "       [0.0000000e+00, 1.0000000e+00],\n",
       "       [0.0000000e+00, 1.0000000e+00],\n",
       "       [0.0000000e+00, 1.0000000e+00],\n",
       "       [0.0000000e+00, 1.0000000e+00]], dtype=float32)"
      ]
     },
     "execution_count": 15,
     "metadata": {},
     "output_type": "execute_result"
    }
   ],
   "source": [
    "test_labels=test_batches.classes\n",
    "predicts=model.predict(x=test_batches, verbose=0)\n"
   ]
  },
  {
   "cell_type": "code",
   "execution_count": null,
   "id": "0ad7bed0",
   "metadata": {},
   "outputs": [],
   "source": [
    "#using the confusion matrix to better visualize the results "
   ]
  },
  {
   "cell_type": "code",
   "execution_count": 16,
   "id": "WFk6riLhpT_E",
   "metadata": {
    "id": "WFk6riLhpT_E"
   },
   "outputs": [],
   "source": [
    "matrice=confusion_matrix(y_true=test_labels,y_pred=predicts.argmax(axis=1))"
   ]
  },
  {
   "cell_type": "code",
   "execution_count": 17,
   "id": "hGLPMi2HrHX9",
   "metadata": {
    "id": "hGLPMi2HrHX9"
   },
   "outputs": [],
   "source": [
    "def plot_confusion_matrix(cm, classes,\n",
    "                          normalize=False,\n",
    "                          title='Confusion matrix',\n",
    "                          cmap=plt.cm.Blues):\n",
    "    \"\"\"\n",
    "    This function prints and plots the confusion matrix.\n",
    "    Normalization can be applied by setting `normalize=True`.\n",
    "    \"\"\"\n",
    "    plt.imshow(cm, interpolation='nearest', cmap=cmap)\n",
    "    plt.title(title)\n",
    "    plt.colorbar()\n",
    "    tick_marks = np.arange(len(classes))\n",
    "    plt.xticks(tick_marks, classes, rotation=45)\n",
    "    plt.yticks(tick_marks, classes)\n",
    "\n",
    "    if normalize:\n",
    "        cm = cm.astype('float') / cm.sum(axis=1)[:, np.newaxis]\n",
    "        print(\"Normalized confusion matrix\")\n",
    "    else:\n",
    "        print('Confusion matrix, without normalization')\n",
    "\n",
    "    print(cm)\n",
    "\n",
    "    thresh = cm.max() / 2.\n",
    "    for i, j in itertools.product(range(cm.shape[0]), range(cm.shape[1])):\n",
    "        plt.text(j, i, cm[i, j],\n",
    "            horizontalalignment=\"center\",\n",
    "            color=\"white\" if cm[i, j] > thresh else \"black\")\n",
    "\n",
    "    plt.tight_layout()\n",
    "    plt.ylabel('True label')\n",
    "    plt.xlabel('Predicted label')"
   ]
  },
  {
   "cell_type": "code",
   "execution_count": 18,
   "id": "i9fHlumGqRaq",
   "metadata": {
    "colab": {
     "base_uri": "https://localhost:8080/",
     "height": 622
    },
    "id": "i9fHlumGqRaq",
    "outputId": "081f92e3-a57c-4500-acde-f2522a631872"
   },
   "outputs": [
    {
     "name": "stdout",
     "output_type": "stream",
     "text": [
      "Confusion matrix, without normalization\n",
      "[[18  0]\n",
      " [ 0 24]]\n"
     ]
    },
    {
     "ename": "NameError",
     "evalue": "ignored",
     "output_type": "error",
     "traceback": [
      "\u001b[0;31m---------------------------------------------------------------------------\u001b[0m",
      "\u001b[0;31mNameError\u001b[0m                                 Traceback (most recent call last)",
      "\u001b[0;32m<ipython-input-18-5cd513d69521>\u001b[0m in \u001b[0;36m<module>\u001b[0;34m()\u001b[0m\n\u001b[1;32m      1\u001b[0m \u001b[0mm\u001b[0m\u001b[0;34m=\u001b[0m\u001b[0;34m[\u001b[0m\u001b[0;34m\"0\"\u001b[0m\u001b[0;34m,\u001b[0m\u001b[0;34m\"1\"\u001b[0m\u001b[0;34m]\u001b[0m\u001b[0;34m\u001b[0m\u001b[0;34m\u001b[0m\u001b[0m\n\u001b[0;32m----> 2\u001b[0;31m \u001b[0mplot_confusion_matrix\u001b[0m\u001b[0;34m(\u001b[0m\u001b[0mcm\u001b[0m\u001b[0;34m=\u001b[0m\u001b[0mmatrice\u001b[0m\u001b[0;34m,\u001b[0m \u001b[0mclasses\u001b[0m\u001b[0;34m=\u001b[0m\u001b[0mm\u001b[0m\u001b[0;34m)\u001b[0m\u001b[0;34m\u001b[0m\u001b[0;34m\u001b[0m\u001b[0m\n\u001b[0m",
      "\u001b[0;32m<ipython-input-17-41b0ce282345>\u001b[0m in \u001b[0;36mplot_confusion_matrix\u001b[0;34m(cm, classes, normalize, title, cmap)\u001b[0m\n\u001b[1;32m     23\u001b[0m \u001b[0;34m\u001b[0m\u001b[0m\n\u001b[1;32m     24\u001b[0m     \u001b[0mthresh\u001b[0m \u001b[0;34m=\u001b[0m \u001b[0mcm\u001b[0m\u001b[0;34m.\u001b[0m\u001b[0mmax\u001b[0m\u001b[0;34m(\u001b[0m\u001b[0;34m)\u001b[0m \u001b[0;34m/\u001b[0m \u001b[0;36m2.\u001b[0m\u001b[0;34m\u001b[0m\u001b[0;34m\u001b[0m\u001b[0m\n\u001b[0;32m---> 25\u001b[0;31m     \u001b[0;32mfor\u001b[0m \u001b[0mi\u001b[0m\u001b[0;34m,\u001b[0m \u001b[0mj\u001b[0m \u001b[0;32min\u001b[0m \u001b[0mitertools\u001b[0m\u001b[0;34m.\u001b[0m\u001b[0mproduct\u001b[0m\u001b[0;34m(\u001b[0m\u001b[0mrange\u001b[0m\u001b[0;34m(\u001b[0m\u001b[0mcm\u001b[0m\u001b[0;34m.\u001b[0m\u001b[0mshape\u001b[0m\u001b[0;34m[\u001b[0m\u001b[0;36m0\u001b[0m\u001b[0;34m]\u001b[0m\u001b[0;34m)\u001b[0m\u001b[0;34m,\u001b[0m \u001b[0mrange\u001b[0m\u001b[0;34m(\u001b[0m\u001b[0mcm\u001b[0m\u001b[0;34m.\u001b[0m\u001b[0mshape\u001b[0m\u001b[0;34m[\u001b[0m\u001b[0;36m1\u001b[0m\u001b[0;34m]\u001b[0m\u001b[0;34m)\u001b[0m\u001b[0;34m)\u001b[0m\u001b[0;34m:\u001b[0m\u001b[0;34m\u001b[0m\u001b[0;34m\u001b[0m\u001b[0m\n\u001b[0m\u001b[1;32m     26\u001b[0m         plt.text(j, i, cm[i, j],\n\u001b[1;32m     27\u001b[0m             \u001b[0mhorizontalalignment\u001b[0m\u001b[0;34m=\u001b[0m\u001b[0;34m\"center\"\u001b[0m\u001b[0;34m,\u001b[0m\u001b[0;34m\u001b[0m\u001b[0;34m\u001b[0m\u001b[0m\n",
      "\u001b[0;31mNameError\u001b[0m: name 'itertools' is not defined"
     ]
    },
    {
     "data": {
      "image/png": "[encoded data removed]",
      "text/plain": [
       "<Figure size 432x288 with 2 Axes>"
      ]
     },
     "metadata": {
      "needs_background": "light"
     },
     "output_type": "display_data"
    }
   ],
   "source": [
    "m=[\"0\",\"1\"]\n",
    "plot_confusion_matrix(cm=matrice, classes=m)\n",
    "#the y axis is the true label the X axis is the predicted label "
   ]
  },
  {
   "cell_type": "code",
   "execution_count": null,
   "id": "b4367e63",
   "metadata": {},
   "outputs": [],
   "source": [
    "#saving the weights of the model"
   ]
  },
  {
   "cell_type": "code",
   "execution_count": 19,
   "id": "48d68440",
   "metadata": {
    "id": "48d68440"
   },
   "outputs": [],
   "source": [
    "model.save('Mobilenet/recog.h5')"
   ]
  }
 ],
 "metadata": {
  "accelerator": "GPU",
  "colab": {
   "collapsed_sections": [],
   "name": "Untitled.ipynb",
   "provenance": []
  },
  "kernelspec": {
   "display_name": "Python 3 (ipykernel)",
   "language": "python",
   "name": "python3"
  },
  "language_info": {
   "codemirror_mode": {
    "name": "ipython",
    "version": 3
   },
   "file_extension": ".py",
   "mimetype": "text/x-python",
   "name": "python",
   "nbconvert_exporter": "python",
   "pygments_lexer": "ipython3",
   "version": "3.10.4"
  }
 },
 "nbformat": 4,
 "nbformat_minor": 5
}
